{
 "cells": [
  {
   "cell_type": "code",
   "execution_count": 78,
   "metadata": {},
   "outputs": [],
   "source": [
    "def twoSumHelper(nums, target):\n",
    "    ret = []\n",
    "    dic = {}\n",
    "    for i in range(len(nums)):\n",
    "        # Check if current number has been included in a valid pair.\n",
    "        if nums[i] in dic and dic[nums[i]] == -1:\n",
    "            continue\n",
    "        if target-nums[i] not in dic:\n",
    "            dic[nums[i]] = i\n",
    "        else:\n",
    "            if dic[target-nums[i]] == -1:\n",
    "                continue\n",
    "            li = [target-nums[i], nums[i]]\n",
    "            ret.append(li)\n",
    "            dic[target-nums[i]] = -1\n",
    "    return ret"
   ]
  },
  {
   "cell_type": "code",
   "execution_count": 79,
   "metadata": {},
   "outputs": [
    {
     "name": "stdout",
     "output_type": "stream",
     "text": [
      "[[1, 5], [2, 4]]\n"
     ]
    }
   ],
   "source": [
    "# Test\n",
    "nums = [1,5,2,4,5,1,5]\n",
    "target = 6\n",
    "print(twoSumHelper(nums, target))"
   ]
  },
  {
   "cell_type": "code",
   "execution_count": 53,
   "metadata": {},
   "outputs": [],
   "source": [
    "def threeSum(nums):\n",
    "    ret = []\n",
    "    dic = {}\n",
    "    for i in range(len(nums)):\n",
    "        pairs = twoSumHelper(nums[i+1:], 0-nums[i])\n",
    "        for item in pairs:\n",
    "            item.append(nums[i])\n",
    "        ret += pairs\n",
    "        \n",
    "    \n",
    "    \n",
    "\n",
    "\n",
    "def threeSum(nums):\n",
    "    \n",
    "    \n",
    "    \n",
    "    ret = []\n",
    "    for i in range(len(nums)):\n",
    "        ret_list = twoSum(nums[i+1:], 0-nums[i])\n",
    "        ret.append(ret_list)"
   ]
  },
  {
   "cell_type": "code",
   "execution_count": 21,
   "metadata": {},
   "outputs": [
    {
     "name": "stdout",
     "output_type": "stream",
     "text": [
      "None\n",
      "None\n"
     ]
    }
   ],
   "source": [
    "nums = [-1,0,1,2,-1,4]\n"
   ]
  },
  {
   "cell_type": "code",
   "execution_count": null,
   "metadata": {},
   "outputs": [],
   "source": []
  }
 ],
 "metadata": {
  "kernelspec": {
   "display_name": "Python 3",
   "language": "python",
   "name": "python3"
  },
  "language_info": {
   "codemirror_mode": {
    "name": "ipython",
    "version": 3
   },
   "file_extension": ".py",
   "mimetype": "text/x-python",
   "name": "python",
   "nbconvert_exporter": "python",
   "pygments_lexer": "ipython3",
   "version": "3.7.1"
  }
 },
 "nbformat": 4,
 "nbformat_minor": 2
}
